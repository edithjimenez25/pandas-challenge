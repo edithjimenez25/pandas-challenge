{
 "cells": [
  {
   "cell_type": "markdown",
   "metadata": {},
   "source": [
    "# Heroes of Pymoli\n",
    "I have been assigned the task of analyzing the data for their most recent fantasy game Heroes of Pymoli.\n",
    "\n",
    "Like many others in its genre, the game is free-to-play, but players are encouraged to purchase optional items that enhance their playing experience. As a first task, the company would like you to generate a report that breaks down the game's purchasing data into meaningful insights.\n"
   ]
  },
  {
   "cell_type": "code",
   "execution_count": 3,
   "metadata": {},
   "outputs": [
    {
     "data": {
      "text/html": [
       "<div>\n",
       "<style scoped>\n",
       "    .dataframe tbody tr th:only-of-type {\n",
       "        vertical-align: middle;\n",
       "    }\n",
       "\n",
       "    .dataframe tbody tr th {\n",
       "        vertical-align: top;\n",
       "    }\n",
       "\n",
       "    .dataframe thead th {\n",
       "        text-align: right;\n",
       "    }\n",
       "</style>\n",
       "<table border=\"1\" class=\"dataframe\">\n",
       "  <thead>\n",
       "    <tr style=\"text-align: right;\">\n",
       "      <th></th>\n",
       "      <th>Purchase ID</th>\n",
       "      <th>SN</th>\n",
       "      <th>Age</th>\n",
       "      <th>Gender</th>\n",
       "      <th>Item ID</th>\n",
       "      <th>Item Name</th>\n",
       "      <th>Price</th>\n",
       "    </tr>\n",
       "  </thead>\n",
       "  <tbody>\n",
       "    <tr>\n",
       "      <td>0</td>\n",
       "      <td>0</td>\n",
       "      <td>Lisim78</td>\n",
       "      <td>20</td>\n",
       "      <td>Male</td>\n",
       "      <td>108</td>\n",
       "      <td>Extraction, Quickblade Of Trembling Hands</td>\n",
       "      <td>3.53</td>\n",
       "    </tr>\n",
       "    <tr>\n",
       "      <td>1</td>\n",
       "      <td>1</td>\n",
       "      <td>Lisovynya38</td>\n",
       "      <td>40</td>\n",
       "      <td>Male</td>\n",
       "      <td>143</td>\n",
       "      <td>Frenzied Scimitar</td>\n",
       "      <td>1.56</td>\n",
       "    </tr>\n",
       "    <tr>\n",
       "      <td>2</td>\n",
       "      <td>2</td>\n",
       "      <td>Ithergue48</td>\n",
       "      <td>24</td>\n",
       "      <td>Male</td>\n",
       "      <td>92</td>\n",
       "      <td>Final Critic</td>\n",
       "      <td>4.88</td>\n",
       "    </tr>\n",
       "    <tr>\n",
       "      <td>3</td>\n",
       "      <td>3</td>\n",
       "      <td>Chamassasya86</td>\n",
       "      <td>24</td>\n",
       "      <td>Male</td>\n",
       "      <td>100</td>\n",
       "      <td>Blindscythe</td>\n",
       "      <td>3.27</td>\n",
       "    </tr>\n",
       "    <tr>\n",
       "      <td>4</td>\n",
       "      <td>4</td>\n",
       "      <td>Iskosia90</td>\n",
       "      <td>23</td>\n",
       "      <td>Male</td>\n",
       "      <td>131</td>\n",
       "      <td>Fury</td>\n",
       "      <td>1.44</td>\n",
       "    </tr>\n",
       "  </tbody>\n",
       "</table>\n",
       "</div>"
      ],
      "text/plain": [
       "   Purchase ID             SN  Age Gender  Item ID  \\\n",
       "0            0        Lisim78   20   Male      108   \n",
       "1            1    Lisovynya38   40   Male      143   \n",
       "2            2     Ithergue48   24   Male       92   \n",
       "3            3  Chamassasya86   24   Male      100   \n",
       "4            4      Iskosia90   23   Male      131   \n",
       "\n",
       "                                   Item Name  Price  \n",
       "0  Extraction, Quickblade Of Trembling Hands   3.53  \n",
       "1                          Frenzied Scimitar   1.56  \n",
       "2                               Final Critic   4.88  \n",
       "3                                Blindscythe   3.27  \n",
       "4                                       Fury   1.44  "
      ]
     },
     "execution_count": 3,
     "metadata": {},
     "output_type": "execute_result"
    }
   ],
   "source": [
    "# Dependencies and Setup\n",
    "import pandas as pd\n",
    "\n",
    "# Reference to the file where the CSV is located and upload\n",
    "purchase_path = \"Resources/purchase_data.csv\"\n",
    "\n",
    "# Read Purchasing File and store into Pandas data frame\n",
    "purchase_data = pd.read_csv(purchase_path, encoding=\"utf-8\")\n",
    "purchase_data.head()"
   ]
  },
  {
   "cell_type": "markdown",
   "metadata": {},
   "source": [
    "## Player Count"
   ]
  },
  {
   "cell_type": "raw",
   "metadata": {},
   "source": [
    "There are a total of 576 players with unique screen name who purchased Heroes Of Pymoli items. These players paid to play with this games. "
   ]
  },
  {
   "cell_type": "code",
   "execution_count": 4,
   "metadata": {},
   "outputs": [
    {
     "data": {
      "text/html": [
       "<div>\n",
       "<style scoped>\n",
       "    .dataframe tbody tr th:only-of-type {\n",
       "        vertical-align: middle;\n",
       "    }\n",
       "\n",
       "    .dataframe tbody tr th {\n",
       "        vertical-align: top;\n",
       "    }\n",
       "\n",
       "    .dataframe thead th {\n",
       "        text-align: right;\n",
       "    }\n",
       "</style>\n",
       "<table border=\"1\" class=\"dataframe\">\n",
       "  <thead>\n",
       "    <tr style=\"text-align: right;\">\n",
       "      <th></th>\n",
       "      <th>Total Players</th>\n",
       "    </tr>\n",
       "  </thead>\n",
       "  <tbody>\n",
       "    <tr>\n",
       "      <td>0</td>\n",
       "      <td>576</td>\n",
       "    </tr>\n",
       "  </tbody>\n",
       "</table>\n",
       "</div>"
      ],
      "text/plain": [
       "   Total Players\n",
       "0            576"
      ]
     },
     "execution_count": 4,
     "metadata": {},
     "output_type": "execute_result"
    }
   ],
   "source": [
    "# Calculate Total Number of Players\n",
    "total_players = len(purchase_data[\"SN\"].value_counts())\n",
    "\n",
    "# Create a data frame with the total players\n",
    "player_count = pd.DataFrame({\"Total Players\":[total_players]})\n",
    "player_count\n"
   ]
  },
  {
   "cell_type": "markdown",
   "metadata": {},
   "source": [
    "## Purchasing Analysis (Total)"
   ]
  },
  {
   "cell_type": "raw",
   "metadata": {},
   "source": [
    "There were 183 unique items for sale to the players of Heroes Of Pymoli. \n",
    "These items were purchased 780 times, leading to a total sales of $2,379.77. \n",
    "On average, the items bought were priced at $3.05."
   ]
  },
  {
   "cell_type": "code",
   "execution_count": 56,
   "metadata": {
    "scrolled": true
   },
   "outputs": [
    {
     "data": {
      "text/html": [
       "<style  type=\"text/css\" >\n",
       "</style><table id=\"T_9a8fda74_3433_11ea_a48f_0050b6d774f3\" ><thead>    <tr>        <th class=\"blank level0\" ></th>        <th class=\"col_heading level0 col0\" >Number of Unique Items</th>        <th class=\"col_heading level0 col1\" >Average Price</th>        <th class=\"col_heading level0 col2\" >Items Purchase</th>        <th class=\"col_heading level0 col3\" >Revenue</th>    </tr></thead><tbody>\n",
       "                <tr>\n",
       "                        <th id=\"T_9a8fda74_3433_11ea_a48f_0050b6d774f3level0_row0\" class=\"row_heading level0 row0\" >0</th>\n",
       "                        <td id=\"T_9a8fda74_3433_11ea_a48f_0050b6d774f3row0_col0\" class=\"data row0 col0\" >183</td>\n",
       "                        <td id=\"T_9a8fda74_3433_11ea_a48f_0050b6d774f3row0_col1\" class=\"data row0 col1\" >$3.05</td>\n",
       "                        <td id=\"T_9a8fda74_3433_11ea_a48f_0050b6d774f3row0_col2\" class=\"data row0 col2\" >780</td>\n",
       "                        <td id=\"T_9a8fda74_3433_11ea_a48f_0050b6d774f3row0_col3\" class=\"data row0 col3\" >$2,379.77</td>\n",
       "            </tr>\n",
       "    </tbody></table>"
      ],
      "text/plain": [
       "<pandas.io.formats.style.Styler at 0x128dfb73f88>"
      ]
     },
     "execution_count": 56,
     "metadata": {},
     "output_type": "execute_result"
    }
   ],
   "source": [
    "# Running calculations to obtain total number of unique item, average price, total purchase count, and revenue.\n",
    "total_unique_items = len(purchase_data['Item ID'].unique())\n",
    "total_average_price = (purchase_data['Price']).mean()\n",
    "total_items_purchase = (purchase_data['Purchase ID']).count()\n",
    "total_revenue = (purchase_data['Price']).sum()\n",
    "\n",
    "# Create a data frame to load the values\n",
    "summary_purchases_df = pd.DataFrame({'Number of Unique Items': [total_unique_items],\n",
    "                                  'Average Price': [total_average_price],\n",
    "                                  'Items Purchase': [total_items_purchase],\n",
    "                                  'Revenue': [total_revenue]\n",
    "                                 })\n",
    "\n",
    "#Format for currency in Average Price and Revenue\n",
    "summary_purchases_df.style.format({'Average Price':\"${:,.2f}\",\n",
    "                              'Revenue': '${:,.2f}'})\n"
   ]
  },
  {
   "cell_type": "markdown",
   "metadata": {},
   "source": [
    "## Gender Demographics"
   ]
  },
  {
   "cell_type": "code",
   "execution_count": 57,
   "metadata": {},
   "outputs": [
    {
     "data": {
      "text/plain": [
       "Gender\n",
       "Female                   113\n",
       "Male                     652\n",
       "Other / Non-Disclosed     15\n",
       "dtype: int64"
      ]
     },
     "execution_count": 57,
     "metadata": {},
     "output_type": "execute_result"
    }
   ],
   "source": [
    "# Calculate the number of players by gender with duplicates\n",
    "gender_groups = purchase_data.groupby(\"Gender\")\n",
    "gender_count = gender_groups.size()\n",
    "gender_count"
   ]
  },
  {
   "cell_type": "code",
   "execution_count": 58,
   "metadata": {},
   "outputs": [
    {
     "data": {
      "text/plain": [
       "Gender\n",
       "Female                    81\n",
       "Male                     484\n",
       "Other / Non-Disclosed     11\n",
       "dtype: int64"
      ]
     },
     "execution_count": 58,
     "metadata": {},
     "output_type": "execute_result"
    }
   ],
   "source": [
    "# Calculate the number of players by gender without duplicates\n",
    "gender_players_groups = purchase_data.drop_duplicates(\"SN\").groupby('Gender')\n",
    "gender_count_drop = gender_players_groups.size()\n",
    "gender_count_drop\n"
   ]
  },
  {
   "cell_type": "code",
   "execution_count": 60,
   "metadata": {},
   "outputs": [
    {
     "data": {
      "text/plain": [
       "Gender\n",
       "Female                    81\n",
       "Male                     484\n",
       "Other / Non-Disclosed     11\n",
       "dtype: int64"
      ]
     },
     "execution_count": 60,
     "metadata": {},
     "output_type": "execute_result"
    }
   ],
   "source": [
    "# Calculate the number of players by gender in the group without duplicate\n",
    "gender_players_count = gender_players_groups.size()\n",
    "gender_players_count"
   ]
  },
  {
   "cell_type": "code",
   "execution_count": 61,
   "metadata": {},
   "outputs": [
    {
     "data": {
      "text/plain": [
       "576"
      ]
     },
     "execution_count": 61,
     "metadata": {},
     "output_type": "execute_result"
    }
   ],
   "source": [
    "# Calculate the number of players based on unique SN\n",
    "player_count = len(purchase_data[\"SN\"].unique())\n",
    "player_count"
   ]
  },
  {
   "cell_type": "code",
   "execution_count": 63,
   "metadata": {},
   "outputs": [
    {
     "data": {
      "text/plain": [
       "Gender\n",
       "Female                   0.140625\n",
       "Male                     0.840278\n",
       "Other / Non-Disclosed    0.019097\n",
       "dtype: float64"
      ]
     },
     "execution_count": 63,
     "metadata": {},
     "output_type": "execute_result"
    }
   ],
   "source": [
    "# Calculate the percentage of player by gender \n",
    "gender_players_percentage = (gender_players_groups.size() / player_count)\n",
    "gender_players_percentage"
   ]
  },
  {
   "cell_type": "code",
   "execution_count": 65,
   "metadata": {},
   "outputs": [
    {
     "data": {
      "text/html": [
       "<div>\n",
       "<style scoped>\n",
       "    .dataframe tbody tr th:only-of-type {\n",
       "        vertical-align: middle;\n",
       "    }\n",
       "\n",
       "    .dataframe tbody tr th {\n",
       "        vertical-align: top;\n",
       "    }\n",
       "\n",
       "    .dataframe thead th {\n",
       "        text-align: right;\n",
       "    }\n",
       "</style>\n",
       "<table border=\"1\" class=\"dataframe\">\n",
       "  <thead>\n",
       "    <tr style=\"text-align: right;\">\n",
       "      <th></th>\n",
       "      <th>Total Count</th>\n",
       "      <th>Percentage of Players</th>\n",
       "    </tr>\n",
       "    <tr>\n",
       "      <th>Gender</th>\n",
       "      <th></th>\n",
       "      <th></th>\n",
       "    </tr>\n",
       "  </thead>\n",
       "  <tbody>\n",
       "    <tr>\n",
       "      <td>Female</td>\n",
       "      <td>81</td>\n",
       "      <td>0.140625</td>\n",
       "    </tr>\n",
       "    <tr>\n",
       "      <td>Male</td>\n",
       "      <td>484</td>\n",
       "      <td>0.840278</td>\n",
       "    </tr>\n",
       "    <tr>\n",
       "      <td>Other / Non-Disclosed</td>\n",
       "      <td>11</td>\n",
       "      <td>0.019097</td>\n",
       "    </tr>\n",
       "  </tbody>\n",
       "</table>\n",
       "</div>"
      ],
      "text/plain": [
       "                       Total Count  Percentage of Players\n",
       "Gender                                                   \n",
       "Female                          81               0.140625\n",
       "Male                           484               0.840278\n",
       "Other / Non-Disclosed           11               0.019097"
      ]
     },
     "execution_count": 65,
     "metadata": {},
     "output_type": "execute_result"
    }
   ],
   "source": [
    "# Create the data frame for gender counts and percentage\n",
    "gender_demographics = pd.DataFrame({'Total Count':gender_players_count,\n",
    "                                    'Percentage of Players': gender_players_percentage})\n",
    "\n",
    "gender_demographics"
   ]
  },
  {
   "cell_type": "code",
   "execution_count": 66,
   "metadata": {},
   "outputs": [],
   "source": [
    "# Format the data frame with no index name in the corner\n",
    "gender_demographics.index.name = None"
   ]
  },
  {
   "cell_type": "code",
   "execution_count": 67,
   "metadata": {},
   "outputs": [
    {
     "data": {
      "text/html": [
       "<style  type=\"text/css\" >\n",
       "</style><table id=\"T_ffc06af6_3433_11ea_8380_0050b6d774f3\" ><thead>    <tr>        <th class=\"blank level0\" ></th>        <th class=\"col_heading level0 col0\" >Total Count</th>        <th class=\"col_heading level0 col1\" >Percentage of Players</th>    </tr></thead><tbody>\n",
       "                <tr>\n",
       "                        <th id=\"T_ffc06af6_3433_11ea_8380_0050b6d774f3level0_row0\" class=\"row_heading level0 row0\" >Male</th>\n",
       "                        <td id=\"T_ffc06af6_3433_11ea_8380_0050b6d774f3row0_col0\" class=\"data row0 col0\" >484</td>\n",
       "                        <td id=\"T_ffc06af6_3433_11ea_8380_0050b6d774f3row0_col1\" class=\"data row0 col1\" >84.03%</td>\n",
       "            </tr>\n",
       "            <tr>\n",
       "                        <th id=\"T_ffc06af6_3433_11ea_8380_0050b6d774f3level0_row1\" class=\"row_heading level0 row1\" >Female</th>\n",
       "                        <td id=\"T_ffc06af6_3433_11ea_8380_0050b6d774f3row1_col0\" class=\"data row1 col0\" >81</td>\n",
       "                        <td id=\"T_ffc06af6_3433_11ea_8380_0050b6d774f3row1_col1\" class=\"data row1 col1\" >14.06%</td>\n",
       "            </tr>\n",
       "            <tr>\n",
       "                        <th id=\"T_ffc06af6_3433_11ea_8380_0050b6d774f3level0_row2\" class=\"row_heading level0 row2\" >Other / Non-Disclosed</th>\n",
       "                        <td id=\"T_ffc06af6_3433_11ea_8380_0050b6d774f3row2_col0\" class=\"data row2 col0\" >11</td>\n",
       "                        <td id=\"T_ffc06af6_3433_11ea_8380_0050b6d774f3row2_col1\" class=\"data row2 col1\" >1.91%</td>\n",
       "            </tr>\n",
       "    </tbody></table>"
      ],
      "text/plain": [
       "<pandas.io.formats.style.Styler at 0x128dfb73c08>"
      ]
     },
     "execution_count": 67,
     "metadata": {},
     "output_type": "execute_result"
    }
   ],
   "source": [
    "# Format the values sorted by total count in descending order, and two decimal places for the percentage\n",
    "gender_demographics.sort_values([\"Total Count\"], ascending = False).style.format({\"Percentage of Players\":\"{:.2%}\"})"
   ]
  },
  {
   "cell_type": "markdown",
   "metadata": {},
   "source": [
    "\n",
    "## Purchasing Analysis (Gender)"
   ]
  },
  {
   "cell_type": "raw",
   "metadata": {},
   "source": [
    "Men are more than three times as likely to make gaming purchases than women.\n",
    "----Women are more motivated to buy shoes and bag----"
   ]
  },
  {
   "cell_type": "code",
   "execution_count": 84,
   "metadata": {},
   "outputs": [],
   "source": [
    "#PURCHASING ANALYSIS (GENDER)\n",
    "\n",
    "# Calculate the number of players and purchase by gender without to drop the duplicates\n",
    "gender_df = purchase_data.groupby('Gender')\n"
   ]
  },
  {
   "cell_type": "code",
   "execution_count": 85,
   "metadata": {},
   "outputs": [],
   "source": [
    "# Number of Purchase per gender using purchase Id\n",
    "purchase_count = gender_df['Purchase ID'].count()"
   ]
  },
  {
   "cell_type": "code",
   "execution_count": 86,
   "metadata": {},
   "outputs": [],
   "source": [
    "# Calculate Average number of Purchases by gender\n",
    "avg_number_purchase = round((purchase_count / gender_count),2)"
   ]
  },
  {
   "cell_type": "code",
   "execution_count": 87,
   "metadata": {},
   "outputs": [],
   "source": [
    "# Calculate the Total Purchase Value by gender\n",
    "total_purchase_gender = gender_df['Price'].sum()"
   ]
  },
  {
   "cell_type": "code",
   "execution_count": 88,
   "metadata": {},
   "outputs": [],
   "source": [
    "# calculate \n",
    "gender_groups = purchase_data.drop_duplicates(\"SN\").groupby(\"Gender\")\n",
    "gender_count = gender_groups.size()\n",
    "gender_count\n",
    "\n",
    "# average total purchase price per person by gender\n",
    "avg_purchase_person = round((total_purchase_gender / gender_count),2)"
   ]
  },
  {
   "cell_type": "code",
   "execution_count": 89,
   "metadata": {},
   "outputs": [],
   "source": [
    "# average total purchase price by gender\n",
    "avg_purchase_gender = round((total_purchase_gender / purchase_count),2)"
   ]
  },
  {
   "cell_type": "code",
   "execution_count": 90,
   "metadata": {},
   "outputs": [],
   "source": [
    "# Building table with values\n",
    "gender_analysis = pd.DataFrame(dict(purchase_count = purchase_count,\n",
    "                                    avg_purchase_gender = avg_purchase_gender,\n",
    "                                    total_purchase_gender = total_purchase_gender,\n",
    "                                    avg_purchase_person = avg_purchase_person,\n",
    "                                   ))\n"
   ]
  },
  {
   "cell_type": "code",
   "execution_count": 91,
   "metadata": {},
   "outputs": [
    {
     "data": {
      "text/html": [
       "<div>\n",
       "<style scoped>\n",
       "    .dataframe tbody tr th:only-of-type {\n",
       "        vertical-align: middle;\n",
       "    }\n",
       "\n",
       "    .dataframe tbody tr th {\n",
       "        vertical-align: top;\n",
       "    }\n",
       "\n",
       "    .dataframe thead th {\n",
       "        text-align: right;\n",
       "    }\n",
       "</style>\n",
       "<table border=\"1\" class=\"dataframe\">\n",
       "  <thead>\n",
       "    <tr style=\"text-align: right;\">\n",
       "      <th></th>\n",
       "      <th>Purchase Count</th>\n",
       "      <th>Average Purchase Price</th>\n",
       "      <th>Total Purchase Value</th>\n",
       "      <th>Avg Total Purchase per Person</th>\n",
       "    </tr>\n",
       "    <tr>\n",
       "      <th>Gender</th>\n",
       "      <th></th>\n",
       "      <th></th>\n",
       "      <th></th>\n",
       "      <th></th>\n",
       "    </tr>\n",
       "  </thead>\n",
       "  <tbody>\n",
       "    <tr>\n",
       "      <td>Female</td>\n",
       "      <td>113</td>\n",
       "      <td>3.20</td>\n",
       "      <td>361.94</td>\n",
       "      <td>4.47</td>\n",
       "    </tr>\n",
       "    <tr>\n",
       "      <td>Male</td>\n",
       "      <td>652</td>\n",
       "      <td>3.02</td>\n",
       "      <td>1967.64</td>\n",
       "      <td>4.07</td>\n",
       "    </tr>\n",
       "    <tr>\n",
       "      <td>Other / Non-Disclosed</td>\n",
       "      <td>15</td>\n",
       "      <td>3.35</td>\n",
       "      <td>50.19</td>\n",
       "      <td>4.56</td>\n",
       "    </tr>\n",
       "  </tbody>\n",
       "</table>\n",
       "</div>"
      ],
      "text/plain": [
       "                       Purchase Count  Average Purchase Price  \\\n",
       "Gender                                                          \n",
       "Female                            113                    3.20   \n",
       "Male                              652                    3.02   \n",
       "Other / Non-Disclosed              15                    3.35   \n",
       "\n",
       "                       Total Purchase Value  Avg Total Purchase per Person  \n",
       "Gender                                                                      \n",
       "Female                               361.94                           4.47  \n",
       "Male                                1967.64                           4.07  \n",
       "Other / Non-Disclosed                 50.19                           4.56  "
      ]
     },
     "execution_count": 91,
     "metadata": {},
     "output_type": "execute_result"
    }
   ],
   "source": [
    "#Purchase Count Average Purchase Price Total Purchase Value Avg Total Purchase per Person\n",
    "gender_analysis = gender_analysis.rename(columns = {\"purchase_count\": \"Purchase Count\",\n",
    "                                                    \"avg_purchase_gender\": \"Average Purchase Price\",\n",
    "                                                    \"total_purchase_gender\": \"Total Purchase Value\",\n",
    "                                                    \"avg_purchase_person\": \"Avg Total Purchase per Person\",\n",
    "                                                   })\n",
    " \n",
    "gender_analysis"
   ]
  },
  {
   "cell_type": "code",
   "execution_count": 92,
   "metadata": {},
   "outputs": [],
   "source": [
    "# Provide index in top left as \"Gender\"\n",
    "gender_analysis.index.name = \"Gender\""
   ]
  },
  {
   "cell_type": "code",
   "execution_count": 93,
   "metadata": {},
   "outputs": [
    {
     "data": {
      "text/html": [
       "<style  type=\"text/css\" >\n",
       "</style><table id=\"T_2a6aa276_3436_11ea_80eb_0050b6d774f3\" ><thead>    <tr>        <th class=\"blank level0\" ></th>        <th class=\"col_heading level0 col0\" >Purchase Count</th>        <th class=\"col_heading level0 col1\" >Average Purchase Price</th>        <th class=\"col_heading level0 col2\" >Total Purchase Value</th>        <th class=\"col_heading level0 col3\" >Avg Total Purchase per Person</th>    </tr>    <tr>        <th class=\"index_name level0\" >Gender</th>        <th class=\"blank\" ></th>        <th class=\"blank\" ></th>        <th class=\"blank\" ></th>        <th class=\"blank\" ></th>    </tr></thead><tbody>\n",
       "                <tr>\n",
       "                        <th id=\"T_2a6aa276_3436_11ea_80eb_0050b6d774f3level0_row0\" class=\"row_heading level0 row0\" >Female</th>\n",
       "                        <td id=\"T_2a6aa276_3436_11ea_80eb_0050b6d774f3row0_col0\" class=\"data row0 col0\" >113</td>\n",
       "                        <td id=\"T_2a6aa276_3436_11ea_80eb_0050b6d774f3row0_col1\" class=\"data row0 col1\" >$3.20</td>\n",
       "                        <td id=\"T_2a6aa276_3436_11ea_80eb_0050b6d774f3row0_col2\" class=\"data row0 col2\" >$361.94</td>\n",
       "                        <td id=\"T_2a6aa276_3436_11ea_80eb_0050b6d774f3row0_col3\" class=\"data row0 col3\" >$4.47</td>\n",
       "            </tr>\n",
       "            <tr>\n",
       "                        <th id=\"T_2a6aa276_3436_11ea_80eb_0050b6d774f3level0_row1\" class=\"row_heading level0 row1\" >Male</th>\n",
       "                        <td id=\"T_2a6aa276_3436_11ea_80eb_0050b6d774f3row1_col0\" class=\"data row1 col0\" >652</td>\n",
       "                        <td id=\"T_2a6aa276_3436_11ea_80eb_0050b6d774f3row1_col1\" class=\"data row1 col1\" >$3.02</td>\n",
       "                        <td id=\"T_2a6aa276_3436_11ea_80eb_0050b6d774f3row1_col2\" class=\"data row1 col2\" >$1,967.64</td>\n",
       "                        <td id=\"T_2a6aa276_3436_11ea_80eb_0050b6d774f3row1_col3\" class=\"data row1 col3\" >$4.07</td>\n",
       "            </tr>\n",
       "            <tr>\n",
       "                        <th id=\"T_2a6aa276_3436_11ea_80eb_0050b6d774f3level0_row2\" class=\"row_heading level0 row2\" >Other / Non-Disclosed</th>\n",
       "                        <td id=\"T_2a6aa276_3436_11ea_80eb_0050b6d774f3row2_col0\" class=\"data row2 col0\" >15</td>\n",
       "                        <td id=\"T_2a6aa276_3436_11ea_80eb_0050b6d774f3row2_col1\" class=\"data row2 col1\" >$3.35</td>\n",
       "                        <td id=\"T_2a6aa276_3436_11ea_80eb_0050b6d774f3row2_col2\" class=\"data row2 col2\" >$50.19</td>\n",
       "                        <td id=\"T_2a6aa276_3436_11ea_80eb_0050b6d774f3row2_col3\" class=\"data row2 col3\" >$4.56</td>\n",
       "            </tr>\n",
       "    </tbody></table>"
      ],
      "text/plain": [
       "<pandas.io.formats.style.Styler at 0x128dfe13a48>"
      ]
     },
     "execution_count": 93,
     "metadata": {},
     "output_type": "execute_result"
    }
   ],
   "source": [
    "# Format columns Average Purchase Price, Total Purchase Value, and Avg Total Purchase per Person to currency $\n",
    "gender_analysis.style.format({\"Average Purchase Price\":\"${:,.2f}\",\n",
    "                              \"Total Purchase Value\":\"${:,.2f}\",\n",
    "                             \"Avg Total Purchase per Person\":\"${:,.2f}\"\n",
    "                             })"
   ]
  },
  {
   "cell_type": "markdown",
   "metadata": {},
   "source": [
    "## Age Demographics"
   ]
  },
  {
   "cell_type": "raw",
   "metadata": {},
   "source": [
    "Observing the table of Results for Heroes pf Pymoli: \n",
    "The first tier of players belong to the 20 to 24 year of age with top percent of 44.79% which correspond to 258 players. The second tier belong to the 15-19 year of age with 18.58%.\n",
    "Presumaly,  The first tier has higher income than youngest tiers. \n",
    "The tiers 25+ have higher income but they have other entertainment and priorities in their lifes.\n"
   ]
  },
  {
   "cell_type": "code",
   "execution_count": 135,
   "metadata": {},
   "outputs": [],
   "source": [
    "# AGE DEMOGRAPHICS\n",
    "\n",
    "# Define the bins for the age ranges\n",
    "bins = [0, 10, 15, 20, 25, 30, 35, 40, 45]\n",
    "\n",
    "# define the groups by range age\n",
    "group_range_names = [\"<10\", \"10–14\", \"15–19\",\"20–24\", \"25–29\", \"30–34\", \"35–39\",\"40+\"]"
   ]
  },
  {
   "cell_type": "code",
   "execution_count": 136,
   "metadata": {},
   "outputs": [],
   "source": [
    "# Include a column in the data frame for the group_ranges_names\n",
    "purchase_data['Age Ranges'] = pd.cut(purchase_data[\"Age\"], bins, right = False, labels=group_range_names)"
   ]
  },
  {
   "cell_type": "code",
   "execution_count": 137,
   "metadata": {},
   "outputs": [],
   "source": [
    "# Calculate the numer of players allocate to each bin\n",
    "age_range = purchase_data.drop_duplicates(\"SN\").groupby(\"Age Ranges\")\n"
   ]
  },
  {
   "cell_type": "code",
   "execution_count": 138,
   "metadata": {},
   "outputs": [],
   "source": [
    "# Calculate the number of players allocate per age into the range\n",
    "size_age_group = age_range[\"Age\"].count()\n"
   ]
  },
  {
   "cell_type": "code",
   "execution_count": 139,
   "metadata": {},
   "outputs": [
    {
     "data": {
      "text/plain": [
       "Age Ranges\n",
       "<10      0.029514\n",
       "10–14    0.038194\n",
       "15–19    0.185764\n",
       "20–24    0.447917\n",
       "25–29    0.133681\n",
       "30–34    0.090278\n",
       "35–39    0.053819\n",
       "40+      0.019097\n",
       "Name: Age, dtype: float64"
      ]
     },
     "execution_count": 139,
     "metadata": {},
     "output_type": "execute_result"
    }
   ],
   "source": [
    "# Calculate the percentage of players per bin\n",
    "age_groups = (size_age_group / player_count)\n",
    "age_groups"
   ]
  },
  {
   "cell_type": "code",
   "execution_count": 140,
   "metadata": {},
   "outputs": [],
   "source": [
    "# Bring the data and build a table summary\n",
    "age_groups_table = pd.DataFrame(dict(size_age_group = size_age_group, \n",
    "                                     age_groups = age_groups\n",
    "                                    ))"
   ]
  },
  {
   "cell_type": "code",
   "execution_count": 141,
   "metadata": {},
   "outputs": [
    {
     "data": {
      "text/html": [
       "<div>\n",
       "<style scoped>\n",
       "    .dataframe tbody tr th:only-of-type {\n",
       "        vertical-align: middle;\n",
       "    }\n",
       "\n",
       "    .dataframe tbody tr th {\n",
       "        vertical-align: top;\n",
       "    }\n",
       "\n",
       "    .dataframe thead th {\n",
       "        text-align: right;\n",
       "    }\n",
       "</style>\n",
       "<table border=\"1\" class=\"dataframe\">\n",
       "  <thead>\n",
       "    <tr style=\"text-align: right;\">\n",
       "      <th></th>\n",
       "      <th>Number of Playes</th>\n",
       "      <th>Proportion (%)</th>\n",
       "    </tr>\n",
       "    <tr>\n",
       "      <th>Age Ranges</th>\n",
       "      <th></th>\n",
       "      <th></th>\n",
       "    </tr>\n",
       "  </thead>\n",
       "  <tbody>\n",
       "    <tr>\n",
       "      <td>&lt;10</td>\n",
       "      <td>17</td>\n",
       "      <td>0.029514</td>\n",
       "    </tr>\n",
       "    <tr>\n",
       "      <td>10–14</td>\n",
       "      <td>22</td>\n",
       "      <td>0.038194</td>\n",
       "    </tr>\n",
       "    <tr>\n",
       "      <td>15–19</td>\n",
       "      <td>107</td>\n",
       "      <td>0.185764</td>\n",
       "    </tr>\n",
       "    <tr>\n",
       "      <td>20–24</td>\n",
       "      <td>258</td>\n",
       "      <td>0.447917</td>\n",
       "    </tr>\n",
       "    <tr>\n",
       "      <td>25–29</td>\n",
       "      <td>77</td>\n",
       "      <td>0.133681</td>\n",
       "    </tr>\n",
       "    <tr>\n",
       "      <td>30–34</td>\n",
       "      <td>52</td>\n",
       "      <td>0.090278</td>\n",
       "    </tr>\n",
       "    <tr>\n",
       "      <td>35–39</td>\n",
       "      <td>31</td>\n",
       "      <td>0.053819</td>\n",
       "    </tr>\n",
       "    <tr>\n",
       "      <td>40+</td>\n",
       "      <td>11</td>\n",
       "      <td>0.019097</td>\n",
       "    </tr>\n",
       "  </tbody>\n",
       "</table>\n",
       "</div>"
      ],
      "text/plain": [
       "            Number of Playes  Proportion (%)\n",
       "Age Ranges                                  \n",
       "<10                       17        0.029514\n",
       "10–14                     22        0.038194\n",
       "15–19                    107        0.185764\n",
       "20–24                    258        0.447917\n",
       "25–29                     77        0.133681\n",
       "30–34                     52        0.090278\n",
       "35–39                     31        0.053819\n",
       "40+                       11        0.019097"
      ]
     },
     "execution_count": 141,
     "metadata": {},
     "output_type": "execute_result"
    }
   ],
   "source": [
    "# Rename the columns of the Sumary Table to Number of Playes and Proportion (%)\n",
    "age_groups_table = age_groups_table.rename(columns = {\"size_age_group\": \"Number of Playes\", \n",
    "                                     \"age_groups\": \"Proportion (%)\"})\n",
    "age_groups_table"
   ]
  },
  {
   "cell_type": "code",
   "execution_count": 142,
   "metadata": {},
   "outputs": [
    {
     "data": {
      "text/html": [
       "<style  type=\"text/css\" >\n",
       "</style><table id=\"T_31495f1c_343b_11ea_8d5e_0050b6d774f3\" ><thead>    <tr>        <th class=\"blank level0\" ></th>        <th class=\"col_heading level0 col0\" >Number of Playes</th>        <th class=\"col_heading level0 col1\" >Proportion (%)</th>    </tr>    <tr>        <th class=\"index_name level0\" >Age Ranges</th>        <th class=\"blank\" ></th>        <th class=\"blank\" ></th>    </tr></thead><tbody>\n",
       "                <tr>\n",
       "                        <th id=\"T_31495f1c_343b_11ea_8d5e_0050b6d774f3level0_row0\" class=\"row_heading level0 row0\" ><10</th>\n",
       "                        <td id=\"T_31495f1c_343b_11ea_8d5e_0050b6d774f3row0_col0\" class=\"data row0 col0\" >17</td>\n",
       "                        <td id=\"T_31495f1c_343b_11ea_8d5e_0050b6d774f3row0_col1\" class=\"data row0 col1\" >2.95%</td>\n",
       "            </tr>\n",
       "            <tr>\n",
       "                        <th id=\"T_31495f1c_343b_11ea_8d5e_0050b6d774f3level0_row1\" class=\"row_heading level0 row1\" >10–14</th>\n",
       "                        <td id=\"T_31495f1c_343b_11ea_8d5e_0050b6d774f3row1_col0\" class=\"data row1 col0\" >22</td>\n",
       "                        <td id=\"T_31495f1c_343b_11ea_8d5e_0050b6d774f3row1_col1\" class=\"data row1 col1\" >3.82%</td>\n",
       "            </tr>\n",
       "            <tr>\n",
       "                        <th id=\"T_31495f1c_343b_11ea_8d5e_0050b6d774f3level0_row2\" class=\"row_heading level0 row2\" >15–19</th>\n",
       "                        <td id=\"T_31495f1c_343b_11ea_8d5e_0050b6d774f3row2_col0\" class=\"data row2 col0\" >107</td>\n",
       "                        <td id=\"T_31495f1c_343b_11ea_8d5e_0050b6d774f3row2_col1\" class=\"data row2 col1\" >18.58%</td>\n",
       "            </tr>\n",
       "            <tr>\n",
       "                        <th id=\"T_31495f1c_343b_11ea_8d5e_0050b6d774f3level0_row3\" class=\"row_heading level0 row3\" >20–24</th>\n",
       "                        <td id=\"T_31495f1c_343b_11ea_8d5e_0050b6d774f3row3_col0\" class=\"data row3 col0\" >258</td>\n",
       "                        <td id=\"T_31495f1c_343b_11ea_8d5e_0050b6d774f3row3_col1\" class=\"data row3 col1\" >44.79%</td>\n",
       "            </tr>\n",
       "            <tr>\n",
       "                        <th id=\"T_31495f1c_343b_11ea_8d5e_0050b6d774f3level0_row4\" class=\"row_heading level0 row4\" >25–29</th>\n",
       "                        <td id=\"T_31495f1c_343b_11ea_8d5e_0050b6d774f3row4_col0\" class=\"data row4 col0\" >77</td>\n",
       "                        <td id=\"T_31495f1c_343b_11ea_8d5e_0050b6d774f3row4_col1\" class=\"data row4 col1\" >13.37%</td>\n",
       "            </tr>\n",
       "            <tr>\n",
       "                        <th id=\"T_31495f1c_343b_11ea_8d5e_0050b6d774f3level0_row5\" class=\"row_heading level0 row5\" >30–34</th>\n",
       "                        <td id=\"T_31495f1c_343b_11ea_8d5e_0050b6d774f3row5_col0\" class=\"data row5 col0\" >52</td>\n",
       "                        <td id=\"T_31495f1c_343b_11ea_8d5e_0050b6d774f3row5_col1\" class=\"data row5 col1\" >9.03%</td>\n",
       "            </tr>\n",
       "            <tr>\n",
       "                        <th id=\"T_31495f1c_343b_11ea_8d5e_0050b6d774f3level0_row6\" class=\"row_heading level0 row6\" >35–39</th>\n",
       "                        <td id=\"T_31495f1c_343b_11ea_8d5e_0050b6d774f3row6_col0\" class=\"data row6 col0\" >31</td>\n",
       "                        <td id=\"T_31495f1c_343b_11ea_8d5e_0050b6d774f3row6_col1\" class=\"data row6 col1\" >5.38%</td>\n",
       "            </tr>\n",
       "            <tr>\n",
       "                        <th id=\"T_31495f1c_343b_11ea_8d5e_0050b6d774f3level0_row7\" class=\"row_heading level0 row7\" >40+</th>\n",
       "                        <td id=\"T_31495f1c_343b_11ea_8d5e_0050b6d774f3row7_col0\" class=\"data row7 col0\" >11</td>\n",
       "                        <td id=\"T_31495f1c_343b_11ea_8d5e_0050b6d774f3row7_col1\" class=\"data row7 col1\" >1.91%</td>\n",
       "            </tr>\n",
       "    </tbody></table>"
      ],
      "text/plain": [
       "<pandas.io.formats.style.Styler at 0x128dfe3ff88>"
      ]
     },
     "execution_count": 142,
     "metadata": {},
     "output_type": "execute_result"
    }
   ],
   "source": [
    "# Format the values of Proportion to percentage with %\n",
    "age_groups_table.style.format({\"Proportion (%)\":\"{:.2%}\"})"
   ]
  },
  {
   "cell_type": "markdown",
   "metadata": {},
   "source": [
    "## Purchasing Analysis (Age)"
   ]
  },
  {
   "cell_type": "raw",
   "metadata": {},
   "source": [
    "Purchasing Analysis by age\n",
    "The majority of the items purchase (47%) are from the group 20-24 years of age. They are the top contibutor to the revenue The second group are 15 -19 years of age and they contribute with 17%. These two groups represent 64% of the purchase of the games. The average cost for these group is aprox. $3.05 which is slighly lower than the average price of $3.11\n",
    "\n",
    "The third group are the age ranges 25-29, which contribute with 13% of the purchases, this group purchase almost four times less than the first group (78% vs 12%)\n",
    "\n",
    "The rest of the groups are less than 9% of the purchase, they don't have a significant impact to the purchase therefore to the revenue.\n",
    "\n",
    "In conclusion, the Heroes of Pymoli's games are more attractive the audience with age between 15 to 25. The percentage of players who spend money in games decrease with the age"
   ]
  },
  {
   "cell_type": "code",
   "execution_count": 143,
   "metadata": {},
   "outputs": [],
   "source": [
    "# PURCHASE ANALYSIS (AGE)\n",
    "# Basic calculations to obtain purchase count, avg purchase price, avg purchase total per person, etc\n",
    "# The Group Purchase by Age \n",
    "purchase_age = purchase_data.groupby('Age Ranges')\n"
   ]
  },
  {
   "cell_type": "code",
   "execution_count": 144,
   "metadata": {},
   "outputs": [],
   "source": [
    "# The total number of purchase by age\n",
    "purchase_age_count = purchase_age[\"Purchase ID\"].count()"
   ]
  },
  {
   "cell_type": "code",
   "execution_count": 145,
   "metadata": {},
   "outputs": [],
   "source": [
    "# The average number of purchase by age\n",
    "purchase_age_avg =round((purchase_age_count / size_age_group),2)"
   ]
  },
  {
   "cell_type": "code",
   "execution_count": 146,
   "metadata": {},
   "outputs": [],
   "source": [
    "# The total price by age group\n",
    "total_purchase_age = purchase_age['Price'].sum()"
   ]
  },
  {
   "cell_type": "code",
   "execution_count": 147,
   "metadata": {},
   "outputs": [],
   "source": [
    "# The average price by age group\n",
    "price_age_avg = round((total_purchase_age / purchase_age_count),2)"
   ]
  },
  {
   "cell_type": "code",
   "execution_count": 148,
   "metadata": {},
   "outputs": [],
   "source": [
    "# The average price per person by ager group\n",
    "price_person_age_avg = round((total_purchase_age / size_age_group ),2)"
   ]
  },
  {
   "cell_type": "code",
   "execution_count": 149,
   "metadata": {},
   "outputs": [
    {
     "data": {
      "text/html": [
       "<div>\n",
       "<style scoped>\n",
       "    .dataframe tbody tr th:only-of-type {\n",
       "        vertical-align: middle;\n",
       "    }\n",
       "\n",
       "    .dataframe tbody tr th {\n",
       "        vertical-align: top;\n",
       "    }\n",
       "\n",
       "    .dataframe thead th {\n",
       "        text-align: right;\n",
       "    }\n",
       "</style>\n",
       "<table border=\"1\" class=\"dataframe\">\n",
       "  <thead>\n",
       "    <tr style=\"text-align: right;\">\n",
       "      <th></th>\n",
       "      <th>purchase_age_count</th>\n",
       "      <th>price_age_avg</th>\n",
       "      <th>total_purchase_age</th>\n",
       "      <th>price_person_age_avg</th>\n",
       "    </tr>\n",
       "    <tr>\n",
       "      <th>Age Ranges</th>\n",
       "      <th></th>\n",
       "      <th></th>\n",
       "      <th></th>\n",
       "      <th></th>\n",
       "    </tr>\n",
       "  </thead>\n",
       "  <tbody>\n",
       "    <tr>\n",
       "      <td>&lt;10</td>\n",
       "      <td>23</td>\n",
       "      <td>3.35</td>\n",
       "      <td>77.13</td>\n",
       "      <td>4.54</td>\n",
       "    </tr>\n",
       "    <tr>\n",
       "      <td>10–14</td>\n",
       "      <td>28</td>\n",
       "      <td>2.96</td>\n",
       "      <td>82.78</td>\n",
       "      <td>3.76</td>\n",
       "    </tr>\n",
       "    <tr>\n",
       "      <td>15–19</td>\n",
       "      <td>136</td>\n",
       "      <td>3.04</td>\n",
       "      <td>412.89</td>\n",
       "      <td>3.86</td>\n",
       "    </tr>\n",
       "    <tr>\n",
       "      <td>20–24</td>\n",
       "      <td>365</td>\n",
       "      <td>3.05</td>\n",
       "      <td>1114.06</td>\n",
       "      <td>4.32</td>\n",
       "    </tr>\n",
       "    <tr>\n",
       "      <td>25–29</td>\n",
       "      <td>101</td>\n",
       "      <td>2.90</td>\n",
       "      <td>293.00</td>\n",
       "      <td>3.81</td>\n",
       "    </tr>\n",
       "    <tr>\n",
       "      <td>30–34</td>\n",
       "      <td>73</td>\n",
       "      <td>2.93</td>\n",
       "      <td>214.00</td>\n",
       "      <td>4.12</td>\n",
       "    </tr>\n",
       "    <tr>\n",
       "      <td>35–39</td>\n",
       "      <td>41</td>\n",
       "      <td>3.60</td>\n",
       "      <td>147.67</td>\n",
       "      <td>4.76</td>\n",
       "    </tr>\n",
       "    <tr>\n",
       "      <td>40+</td>\n",
       "      <td>12</td>\n",
       "      <td>3.04</td>\n",
       "      <td>36.54</td>\n",
       "      <td>3.32</td>\n",
       "    </tr>\n",
       "  </tbody>\n",
       "</table>\n",
       "</div>"
      ],
      "text/plain": [
       "            purchase_age_count  price_age_avg  total_purchase_age  \\\n",
       "Age Ranges                                                          \n",
       "<10                         23           3.35               77.13   \n",
       "10–14                       28           2.96               82.78   \n",
       "15–19                      136           3.04              412.89   \n",
       "20–24                      365           3.05             1114.06   \n",
       "25–29                      101           2.90              293.00   \n",
       "30–34                       73           2.93              214.00   \n",
       "35–39                       41           3.60              147.67   \n",
       "40+                         12           3.04               36.54   \n",
       "\n",
       "            price_person_age_avg  \n",
       "Age Ranges                        \n",
       "<10                         4.54  \n",
       "10–14                       3.76  \n",
       "15–19                       3.86  \n",
       "20–24                       4.32  \n",
       "25–29                       3.81  \n",
       "30–34                       4.12  \n",
       "35–39                       4.76  \n",
       "40+                         3.32  "
      ]
     },
     "execution_count": 149,
     "metadata": {},
     "output_type": "execute_result"
    }
   ],
   "source": [
    "# build the summary table and display it\n",
    "purchases_analysis = pd.DataFrame(dict(purchase_age_count = purchase_age_count,\n",
    "                                        price_age_avg = price_age_avg,\n",
    "                                        total_purchase_age = total_purchase_age,                                \n",
    "                                         price_person_age_avg = price_person_age_avg                                \n",
    "                                ))\n",
    "purchases_analysis"
   ]
  },
  {
   "cell_type": "code",
   "execution_count": 150,
   "metadata": {},
   "outputs": [
    {
     "data": {
      "text/html": [
       "<div>\n",
       "<style scoped>\n",
       "    .dataframe tbody tr th:only-of-type {\n",
       "        vertical-align: middle;\n",
       "    }\n",
       "\n",
       "    .dataframe tbody tr th {\n",
       "        vertical-align: top;\n",
       "    }\n",
       "\n",
       "    .dataframe thead th {\n",
       "        text-align: right;\n",
       "    }\n",
       "</style>\n",
       "<table border=\"1\" class=\"dataframe\">\n",
       "  <thead>\n",
       "    <tr style=\"text-align: right;\">\n",
       "      <th></th>\n",
       "      <th>Purchase Count</th>\n",
       "      <th>Average Purchase Price</th>\n",
       "      <th>Total Purchase Value</th>\n",
       "      <th>Avg Total Purchase per Person</th>\n",
       "    </tr>\n",
       "    <tr>\n",
       "      <th>Age Ranges</th>\n",
       "      <th></th>\n",
       "      <th></th>\n",
       "      <th></th>\n",
       "      <th></th>\n",
       "    </tr>\n",
       "  </thead>\n",
       "  <tbody>\n",
       "    <tr>\n",
       "      <td>&lt;10</td>\n",
       "      <td>23</td>\n",
       "      <td>3.35</td>\n",
       "      <td>77.13</td>\n",
       "      <td>4.54</td>\n",
       "    </tr>\n",
       "    <tr>\n",
       "      <td>10–14</td>\n",
       "      <td>28</td>\n",
       "      <td>2.96</td>\n",
       "      <td>82.78</td>\n",
       "      <td>3.76</td>\n",
       "    </tr>\n",
       "    <tr>\n",
       "      <td>15–19</td>\n",
       "      <td>136</td>\n",
       "      <td>3.04</td>\n",
       "      <td>412.89</td>\n",
       "      <td>3.86</td>\n",
       "    </tr>\n",
       "    <tr>\n",
       "      <td>20–24</td>\n",
       "      <td>365</td>\n",
       "      <td>3.05</td>\n",
       "      <td>1114.06</td>\n",
       "      <td>4.32</td>\n",
       "    </tr>\n",
       "    <tr>\n",
       "      <td>25–29</td>\n",
       "      <td>101</td>\n",
       "      <td>2.90</td>\n",
       "      <td>293.00</td>\n",
       "      <td>3.81</td>\n",
       "    </tr>\n",
       "    <tr>\n",
       "      <td>30–34</td>\n",
       "      <td>73</td>\n",
       "      <td>2.93</td>\n",
       "      <td>214.00</td>\n",
       "      <td>4.12</td>\n",
       "    </tr>\n",
       "    <tr>\n",
       "      <td>35–39</td>\n",
       "      <td>41</td>\n",
       "      <td>3.60</td>\n",
       "      <td>147.67</td>\n",
       "      <td>4.76</td>\n",
       "    </tr>\n",
       "    <tr>\n",
       "      <td>40+</td>\n",
       "      <td>12</td>\n",
       "      <td>3.04</td>\n",
       "      <td>36.54</td>\n",
       "      <td>3.32</td>\n",
       "    </tr>\n",
       "  </tbody>\n",
       "</table>\n",
       "</div>"
      ],
      "text/plain": [
       "            Purchase Count  Average Purchase Price  Total Purchase Value  \\\n",
       "Age Ranges                                                                 \n",
       "<10                     23                    3.35                 77.13   \n",
       "10–14                   28                    2.96                 82.78   \n",
       "15–19                  136                    3.04                412.89   \n",
       "20–24                  365                    3.05               1114.06   \n",
       "25–29                  101                    2.90                293.00   \n",
       "30–34                   73                    2.93                214.00   \n",
       "35–39                   41                    3.60                147.67   \n",
       "40+                     12                    3.04                 36.54   \n",
       "\n",
       "            Avg Total Purchase per Person  \n",
       "Age Ranges                                 \n",
       "<10                                  4.54  \n",
       "10–14                                3.76  \n",
       "15–19                                3.86  \n",
       "20–24                                4.32  \n",
       "25–29                                3.81  \n",
       "30–34                                4.12  \n",
       "35–39                                4.76  \n",
       "40+                                  3.32  "
      ]
     },
     "execution_count": 150,
     "metadata": {},
     "output_type": "execute_result"
    }
   ],
   "source": [
    "# Add title to the summary table\n",
    "purchases_analysis = purchases_analysis.rename(columns = {\"purchase_age_count\": \"Purchase Count\",\n",
    "                                                          \"price_age_avg\": \"Average Purchase Price\",\n",
    "                                                          \"total_purchase_age\": \"Total Purchase Value\",\n",
    "                                                          \"price_person_age_avg\": \"Avg Total Purchase per Person\"\n",
    "                                                         })\n",
    "purchases_analysis"
   ]
  },
  {
   "cell_type": "code",
   "execution_count": 151,
   "metadata": {},
   "outputs": [
    {
     "data": {
      "text/html": [
       "<style  type=\"text/css\" >\n",
       "</style><table id=\"T_42be0cee_343b_11ea_ae2a_0050b6d774f3\" ><thead>    <tr>        <th class=\"blank level0\" ></th>        <th class=\"col_heading level0 col0\" >Purchase Count</th>        <th class=\"col_heading level0 col1\" >Average Purchase Price</th>        <th class=\"col_heading level0 col2\" >Total Purchase Value</th>        <th class=\"col_heading level0 col3\" >Avg Total Purchase per Person</th>    </tr>    <tr>        <th class=\"index_name level0\" >Age Ranges</th>        <th class=\"blank\" ></th>        <th class=\"blank\" ></th>        <th class=\"blank\" ></th>        <th class=\"blank\" ></th>    </tr></thead><tbody>\n",
       "                <tr>\n",
       "                        <th id=\"T_42be0cee_343b_11ea_ae2a_0050b6d774f3level0_row0\" class=\"row_heading level0 row0\" ><10</th>\n",
       "                        <td id=\"T_42be0cee_343b_11ea_ae2a_0050b6d774f3row0_col0\" class=\"data row0 col0\" >23</td>\n",
       "                        <td id=\"T_42be0cee_343b_11ea_ae2a_0050b6d774f3row0_col1\" class=\"data row0 col1\" >$3.35</td>\n",
       "                        <td id=\"T_42be0cee_343b_11ea_ae2a_0050b6d774f3row0_col2\" class=\"data row0 col2\" >$77.13</td>\n",
       "                        <td id=\"T_42be0cee_343b_11ea_ae2a_0050b6d774f3row0_col3\" class=\"data row0 col3\" >$4.54</td>\n",
       "            </tr>\n",
       "            <tr>\n",
       "                        <th id=\"T_42be0cee_343b_11ea_ae2a_0050b6d774f3level0_row1\" class=\"row_heading level0 row1\" >10–14</th>\n",
       "                        <td id=\"T_42be0cee_343b_11ea_ae2a_0050b6d774f3row1_col0\" class=\"data row1 col0\" >28</td>\n",
       "                        <td id=\"T_42be0cee_343b_11ea_ae2a_0050b6d774f3row1_col1\" class=\"data row1 col1\" >$2.96</td>\n",
       "                        <td id=\"T_42be0cee_343b_11ea_ae2a_0050b6d774f3row1_col2\" class=\"data row1 col2\" >$82.78</td>\n",
       "                        <td id=\"T_42be0cee_343b_11ea_ae2a_0050b6d774f3row1_col3\" class=\"data row1 col3\" >$3.76</td>\n",
       "            </tr>\n",
       "            <tr>\n",
       "                        <th id=\"T_42be0cee_343b_11ea_ae2a_0050b6d774f3level0_row2\" class=\"row_heading level0 row2\" >15–19</th>\n",
       "                        <td id=\"T_42be0cee_343b_11ea_ae2a_0050b6d774f3row2_col0\" class=\"data row2 col0\" >136</td>\n",
       "                        <td id=\"T_42be0cee_343b_11ea_ae2a_0050b6d774f3row2_col1\" class=\"data row2 col1\" >$3.04</td>\n",
       "                        <td id=\"T_42be0cee_343b_11ea_ae2a_0050b6d774f3row2_col2\" class=\"data row2 col2\" >$412.89</td>\n",
       "                        <td id=\"T_42be0cee_343b_11ea_ae2a_0050b6d774f3row2_col3\" class=\"data row2 col3\" >$3.86</td>\n",
       "            </tr>\n",
       "            <tr>\n",
       "                        <th id=\"T_42be0cee_343b_11ea_ae2a_0050b6d774f3level0_row3\" class=\"row_heading level0 row3\" >20–24</th>\n",
       "                        <td id=\"T_42be0cee_343b_11ea_ae2a_0050b6d774f3row3_col0\" class=\"data row3 col0\" >365</td>\n",
       "                        <td id=\"T_42be0cee_343b_11ea_ae2a_0050b6d774f3row3_col1\" class=\"data row3 col1\" >$3.05</td>\n",
       "                        <td id=\"T_42be0cee_343b_11ea_ae2a_0050b6d774f3row3_col2\" class=\"data row3 col2\" >$1,114.06</td>\n",
       "                        <td id=\"T_42be0cee_343b_11ea_ae2a_0050b6d774f3row3_col3\" class=\"data row3 col3\" >$4.32</td>\n",
       "            </tr>\n",
       "            <tr>\n",
       "                        <th id=\"T_42be0cee_343b_11ea_ae2a_0050b6d774f3level0_row4\" class=\"row_heading level0 row4\" >25–29</th>\n",
       "                        <td id=\"T_42be0cee_343b_11ea_ae2a_0050b6d774f3row4_col0\" class=\"data row4 col0\" >101</td>\n",
       "                        <td id=\"T_42be0cee_343b_11ea_ae2a_0050b6d774f3row4_col1\" class=\"data row4 col1\" >$2.90</td>\n",
       "                        <td id=\"T_42be0cee_343b_11ea_ae2a_0050b6d774f3row4_col2\" class=\"data row4 col2\" >$293.00</td>\n",
       "                        <td id=\"T_42be0cee_343b_11ea_ae2a_0050b6d774f3row4_col3\" class=\"data row4 col3\" >$3.81</td>\n",
       "            </tr>\n",
       "            <tr>\n",
       "                        <th id=\"T_42be0cee_343b_11ea_ae2a_0050b6d774f3level0_row5\" class=\"row_heading level0 row5\" >30–34</th>\n",
       "                        <td id=\"T_42be0cee_343b_11ea_ae2a_0050b6d774f3row5_col0\" class=\"data row5 col0\" >73</td>\n",
       "                        <td id=\"T_42be0cee_343b_11ea_ae2a_0050b6d774f3row5_col1\" class=\"data row5 col1\" >$2.93</td>\n",
       "                        <td id=\"T_42be0cee_343b_11ea_ae2a_0050b6d774f3row5_col2\" class=\"data row5 col2\" >$214.00</td>\n",
       "                        <td id=\"T_42be0cee_343b_11ea_ae2a_0050b6d774f3row5_col3\" class=\"data row5 col3\" >$4.12</td>\n",
       "            </tr>\n",
       "            <tr>\n",
       "                        <th id=\"T_42be0cee_343b_11ea_ae2a_0050b6d774f3level0_row6\" class=\"row_heading level0 row6\" >35–39</th>\n",
       "                        <td id=\"T_42be0cee_343b_11ea_ae2a_0050b6d774f3row6_col0\" class=\"data row6 col0\" >41</td>\n",
       "                        <td id=\"T_42be0cee_343b_11ea_ae2a_0050b6d774f3row6_col1\" class=\"data row6 col1\" >$3.60</td>\n",
       "                        <td id=\"T_42be0cee_343b_11ea_ae2a_0050b6d774f3row6_col2\" class=\"data row6 col2\" >$147.67</td>\n",
       "                        <td id=\"T_42be0cee_343b_11ea_ae2a_0050b6d774f3row6_col3\" class=\"data row6 col3\" >$4.76</td>\n",
       "            </tr>\n",
       "            <tr>\n",
       "                        <th id=\"T_42be0cee_343b_11ea_ae2a_0050b6d774f3level0_row7\" class=\"row_heading level0 row7\" >40+</th>\n",
       "                        <td id=\"T_42be0cee_343b_11ea_ae2a_0050b6d774f3row7_col0\" class=\"data row7 col0\" >12</td>\n",
       "                        <td id=\"T_42be0cee_343b_11ea_ae2a_0050b6d774f3row7_col1\" class=\"data row7 col1\" >$3.04</td>\n",
       "                        <td id=\"T_42be0cee_343b_11ea_ae2a_0050b6d774f3row7_col2\" class=\"data row7 col2\" >$36.54</td>\n",
       "                        <td id=\"T_42be0cee_343b_11ea_ae2a_0050b6d774f3row7_col3\" class=\"data row7 col3\" >$3.32</td>\n",
       "            </tr>\n",
       "    </tbody></table>"
      ],
      "text/plain": [
       "<pandas.io.formats.style.Styler at 0x128dff82d88>"
      ]
     },
     "execution_count": 151,
     "metadata": {},
     "output_type": "execute_result"
    }
   ],
   "source": [
    "# Format columns Average Purchase Price, Total Purchase Value, and Avg Total Purchase per Person to currency $\n",
    "purchases_analysis.style.format({\"Average Purchase Price\":\"${:,.2f}\",\n",
    "                              \"Total Purchase Value\":\"${:,.2f}\",\n",
    "                             \"Avg Total Purchase per Person\":\"${:,.2f}\"\n",
    "                             })"
   ]
  },
  {
   "cell_type": "markdown",
   "metadata": {},
   "source": [
    "## Top Spenders"
   ]
  },
  {
   "cell_type": "raw",
   "metadata": {},
   "source": [
    "The high buyer on the group is the player with the SN Lisosia93, with number of item of 5, average purchase price of $3.79 and total purchase value of $18.96\n",
    "The top five (5) players on the purchase of Heroes of Pymoli represent 3% of the total purchase value. \n"
   ]
  },
  {
   "cell_type": "code",
   "execution_count": 170,
   "metadata": {},
   "outputs": [],
   "source": [
    "# TOP SPENDERS\n",
    "# Define a group of player by SN\n",
    "high_expender = purchase_data.groupby(\"SN\")"
   ]
  },
  {
   "cell_type": "code",
   "execution_count": 171,
   "metadata": {},
   "outputs": [],
   "source": [
    "# Estimate the purchase cost for each player\n",
    "purchase_SN_total = high_expender[\"Price\"].sum()"
   ]
  },
  {
   "cell_type": "code",
   "execution_count": 172,
   "metadata": {},
   "outputs": [],
   "source": [
    "# Calculate number of purchase for each player\n",
    "purchase_SN_quantity =  high_expender[\"Purchase ID\"].count()"
   ]
  },
  {
   "cell_type": "code",
   "execution_count": 173,
   "metadata": {},
   "outputs": [],
   "source": [
    "# Calculate the average purchase cost for each player\n",
    "purchase_SN_avg = high_expender[\"Price\"].mean()"
   ]
  },
  {
   "cell_type": "code",
   "execution_count": 176,
   "metadata": {},
   "outputs": [
    {
     "data": {
      "text/html": [
       "<div>\n",
       "<style scoped>\n",
       "    .dataframe tbody tr th:only-of-type {\n",
       "        vertical-align: middle;\n",
       "    }\n",
       "\n",
       "    .dataframe tbody tr th {\n",
       "        vertical-align: top;\n",
       "    }\n",
       "\n",
       "    .dataframe thead th {\n",
       "        text-align: right;\n",
       "    }\n",
       "</style>\n",
       "<table border=\"1\" class=\"dataframe\">\n",
       "  <thead>\n",
       "    <tr style=\"text-align: right;\">\n",
       "      <th></th>\n",
       "      <th>Purchase Count</th>\n",
       "      <th>Average Purchase Price</th>\n",
       "      <th>Total Purchase Value</th>\n",
       "    </tr>\n",
       "    <tr>\n",
       "      <th>SN</th>\n",
       "      <th></th>\n",
       "      <th></th>\n",
       "      <th></th>\n",
       "    </tr>\n",
       "  </thead>\n",
       "  <tbody>\n",
       "    <tr>\n",
       "      <td>Adairialis76</td>\n",
       "      <td>1</td>\n",
       "      <td>2.280000</td>\n",
       "      <td>2.28</td>\n",
       "    </tr>\n",
       "    <tr>\n",
       "      <td>Adastirin33</td>\n",
       "      <td>1</td>\n",
       "      <td>4.480000</td>\n",
       "      <td>4.48</td>\n",
       "    </tr>\n",
       "    <tr>\n",
       "      <td>Aeda94</td>\n",
       "      <td>1</td>\n",
       "      <td>4.910000</td>\n",
       "      <td>4.91</td>\n",
       "    </tr>\n",
       "    <tr>\n",
       "      <td>Aela59</td>\n",
       "      <td>1</td>\n",
       "      <td>4.320000</td>\n",
       "      <td>4.32</td>\n",
       "    </tr>\n",
       "    <tr>\n",
       "      <td>Aelaria33</td>\n",
       "      <td>1</td>\n",
       "      <td>1.790000</td>\n",
       "      <td>1.79</td>\n",
       "    </tr>\n",
       "    <tr>\n",
       "      <td>...</td>\n",
       "      <td>...</td>\n",
       "      <td>...</td>\n",
       "      <td>...</td>\n",
       "    </tr>\n",
       "    <tr>\n",
       "      <td>Yathecal82</td>\n",
       "      <td>3</td>\n",
       "      <td>2.073333</td>\n",
       "      <td>6.22</td>\n",
       "    </tr>\n",
       "    <tr>\n",
       "      <td>Yathedeu43</td>\n",
       "      <td>2</td>\n",
       "      <td>3.010000</td>\n",
       "      <td>6.02</td>\n",
       "    </tr>\n",
       "    <tr>\n",
       "      <td>Yoishirrala98</td>\n",
       "      <td>1</td>\n",
       "      <td>4.580000</td>\n",
       "      <td>4.58</td>\n",
       "    </tr>\n",
       "    <tr>\n",
       "      <td>Zhisrisu83</td>\n",
       "      <td>2</td>\n",
       "      <td>3.945000</td>\n",
       "      <td>7.89</td>\n",
       "    </tr>\n",
       "    <tr>\n",
       "      <td>Zontibe81</td>\n",
       "      <td>3</td>\n",
       "      <td>2.676667</td>\n",
       "      <td>8.03</td>\n",
       "    </tr>\n",
       "  </tbody>\n",
       "</table>\n",
       "<p>576 rows × 3 columns</p>\n",
       "</div>"
      ],
      "text/plain": [
       "               Purchase Count  Average Purchase Price  Total Purchase Value\n",
       "SN                                                                         \n",
       "Adairialis76                1                2.280000                  2.28\n",
       "Adastirin33                 1                4.480000                  4.48\n",
       "Aeda94                      1                4.910000                  4.91\n",
       "Aela59                      1                4.320000                  4.32\n",
       "Aelaria33                   1                1.790000                  1.79\n",
       "...                       ...                     ...                   ...\n",
       "Yathecal82                  3                2.073333                  6.22\n",
       "Yathedeu43                  2                3.010000                  6.02\n",
       "Yoishirrala98               1                4.580000                  4.58\n",
       "Zhisrisu83                  2                3.945000                  7.89\n",
       "Zontibe81                   3                2.676667                  8.03\n",
       "\n",
       "[576 rows x 3 columns]"
      ]
     },
     "execution_count": 176,
     "metadata": {},
     "output_type": "execute_result"
    }
   ],
   "source": [
    "# Build a data frame to include both values: purchase cost for each player and number of purchase for each player\n",
    "high_expender_player = pd.DataFrame({\"Purchase Count\":purchase_SN_quantity,\n",
    "                                    \"Average Purchase Price\": purchase_SN_avg,\n",
    "                                    \"Total Purchase Value\": purchase_SN_total})\n",
    "high_expender_player"
   ]
  },
  {
   "cell_type": "code",
   "execution_count": 178,
   "metadata": {},
   "outputs": [
    {
     "data": {
      "text/html": [
       "<div>\n",
       "<style scoped>\n",
       "    .dataframe tbody tr th:only-of-type {\n",
       "        vertical-align: middle;\n",
       "    }\n",
       "\n",
       "    .dataframe tbody tr th {\n",
       "        vertical-align: top;\n",
       "    }\n",
       "\n",
       "    .dataframe thead th {\n",
       "        text-align: right;\n",
       "    }\n",
       "</style>\n",
       "<table border=\"1\" class=\"dataframe\">\n",
       "  <thead>\n",
       "    <tr style=\"text-align: right;\">\n",
       "      <th></th>\n",
       "      <th>Purchase Count</th>\n",
       "      <th>Average Purchase Price</th>\n",
       "      <th>Total Purchase Value</th>\n",
       "    </tr>\n",
       "    <tr>\n",
       "      <th>SN</th>\n",
       "      <th></th>\n",
       "      <th></th>\n",
       "      <th></th>\n",
       "    </tr>\n",
       "  </thead>\n",
       "  <tbody>\n",
       "    <tr>\n",
       "      <td>Lisosia93</td>\n",
       "      <td>5</td>\n",
       "      <td>3.792000</td>\n",
       "      <td>18.96</td>\n",
       "    </tr>\n",
       "    <tr>\n",
       "      <td>Idastidru52</td>\n",
       "      <td>4</td>\n",
       "      <td>3.862500</td>\n",
       "      <td>15.45</td>\n",
       "    </tr>\n",
       "    <tr>\n",
       "      <td>Chamjask73</td>\n",
       "      <td>3</td>\n",
       "      <td>4.610000</td>\n",
       "      <td>13.83</td>\n",
       "    </tr>\n",
       "    <tr>\n",
       "      <td>Iral74</td>\n",
       "      <td>4</td>\n",
       "      <td>3.405000</td>\n",
       "      <td>13.62</td>\n",
       "    </tr>\n",
       "    <tr>\n",
       "      <td>Iskadarya95</td>\n",
       "      <td>3</td>\n",
       "      <td>4.366667</td>\n",
       "      <td>13.10</td>\n",
       "    </tr>\n",
       "  </tbody>\n",
       "</table>\n",
       "</div>"
      ],
      "text/plain": [
       "             Purchase Count  Average Purchase Price  Total Purchase Value\n",
       "SN                                                                       \n",
       "Lisosia93                 5                3.792000                 18.96\n",
       "Idastidru52               4                3.862500                 15.45\n",
       "Chamjask73                3                4.610000                 13.83\n",
       "Iral74                    4                3.405000                 13.62\n",
       "Iskadarya95               3                4.366667                 13.10"
      ]
     },
     "execution_count": 178,
     "metadata": {},
     "output_type": "execute_result"
    }
   ],
   "source": [
    "# Sort in descending order to obtain top 5 spender names \n",
    "expender_analysis = high_expender_player.sort_values([\"Total Purchase Value\"], ascending=False).head()\n",
    "expender_analysis"
   ]
  },
  {
   "cell_type": "code",
   "execution_count": 179,
   "metadata": {},
   "outputs": [
    {
     "data": {
      "text/html": [
       "<style  type=\"text/css\" >\n",
       "</style><table id=\"T_c804fed2_343f_11ea_8499_0050b6d774f3\" ><thead>    <tr>        <th class=\"blank level0\" ></th>        <th class=\"col_heading level0 col0\" >Purchase Count</th>        <th class=\"col_heading level0 col1\" >Average Purchase Price</th>        <th class=\"col_heading level0 col2\" >Total Purchase Value</th>    </tr>    <tr>        <th class=\"index_name level0\" >SN</th>        <th class=\"blank\" ></th>        <th class=\"blank\" ></th>        <th class=\"blank\" ></th>    </tr></thead><tbody>\n",
       "                <tr>\n",
       "                        <th id=\"T_c804fed2_343f_11ea_8499_0050b6d774f3level0_row0\" class=\"row_heading level0 row0\" >Lisosia93</th>\n",
       "                        <td id=\"T_c804fed2_343f_11ea_8499_0050b6d774f3row0_col0\" class=\"data row0 col0\" >5</td>\n",
       "                        <td id=\"T_c804fed2_343f_11ea_8499_0050b6d774f3row0_col1\" class=\"data row0 col1\" >$3.79</td>\n",
       "                        <td id=\"T_c804fed2_343f_11ea_8499_0050b6d774f3row0_col2\" class=\"data row0 col2\" >$18.96</td>\n",
       "            </tr>\n",
       "            <tr>\n",
       "                        <th id=\"T_c804fed2_343f_11ea_8499_0050b6d774f3level0_row1\" class=\"row_heading level0 row1\" >Idastidru52</th>\n",
       "                        <td id=\"T_c804fed2_343f_11ea_8499_0050b6d774f3row1_col0\" class=\"data row1 col0\" >4</td>\n",
       "                        <td id=\"T_c804fed2_343f_11ea_8499_0050b6d774f3row1_col1\" class=\"data row1 col1\" >$3.86</td>\n",
       "                        <td id=\"T_c804fed2_343f_11ea_8499_0050b6d774f3row1_col2\" class=\"data row1 col2\" >$15.45</td>\n",
       "            </tr>\n",
       "            <tr>\n",
       "                        <th id=\"T_c804fed2_343f_11ea_8499_0050b6d774f3level0_row2\" class=\"row_heading level0 row2\" >Chamjask73</th>\n",
       "                        <td id=\"T_c804fed2_343f_11ea_8499_0050b6d774f3row2_col0\" class=\"data row2 col0\" >3</td>\n",
       "                        <td id=\"T_c804fed2_343f_11ea_8499_0050b6d774f3row2_col1\" class=\"data row2 col1\" >$4.61</td>\n",
       "                        <td id=\"T_c804fed2_343f_11ea_8499_0050b6d774f3row2_col2\" class=\"data row2 col2\" >$13.83</td>\n",
       "            </tr>\n",
       "            <tr>\n",
       "                        <th id=\"T_c804fed2_343f_11ea_8499_0050b6d774f3level0_row3\" class=\"row_heading level0 row3\" >Iral74</th>\n",
       "                        <td id=\"T_c804fed2_343f_11ea_8499_0050b6d774f3row3_col0\" class=\"data row3 col0\" >4</td>\n",
       "                        <td id=\"T_c804fed2_343f_11ea_8499_0050b6d774f3row3_col1\" class=\"data row3 col1\" >$3.40</td>\n",
       "                        <td id=\"T_c804fed2_343f_11ea_8499_0050b6d774f3row3_col2\" class=\"data row3 col2\" >$13.62</td>\n",
       "            </tr>\n",
       "            <tr>\n",
       "                        <th id=\"T_c804fed2_343f_11ea_8499_0050b6d774f3level0_row4\" class=\"row_heading level0 row4\" >Iskadarya95</th>\n",
       "                        <td id=\"T_c804fed2_343f_11ea_8499_0050b6d774f3row4_col0\" class=\"data row4 col0\" >3</td>\n",
       "                        <td id=\"T_c804fed2_343f_11ea_8499_0050b6d774f3row4_col1\" class=\"data row4 col1\" >$4.37</td>\n",
       "                        <td id=\"T_c804fed2_343f_11ea_8499_0050b6d774f3row4_col2\" class=\"data row4 col2\" >$13.10</td>\n",
       "            </tr>\n",
       "    </tbody></table>"
      ],
      "text/plain": [
       "<pandas.io.formats.style.Styler at 0x128dff8a6c8>"
      ]
     },
     "execution_count": 179,
     "metadata": {},
     "output_type": "execute_result"
    }
   ],
   "source": [
    "# Format columns Average Purchase Price, Total Purchase Value to currency $\n",
    "expender_analysis.style.format({\"Average Purchase Price\":\"${:,.2f}\",\n",
    "                              \"Total Purchase Value\":\"${:,.2f}\",\n",
    "                             })"
   ]
  },
  {
   "cell_type": "markdown",
   "metadata": {},
   "source": [
    "## Most Popular Items"
   ]
  },
  {
   "cell_type": "raw",
   "metadata": {},
   "source": [
    "The item most popular to the players is \"Oathbreaker, Last Hope of the Breaking Storm\". The players bought in 12 items at the average price of $4.23 to achieved a total product value of $50.76.\n",
    "\n",
    "The next three items most popular are \"Fiery Glass Crusader\",\"Extraction, Quickblade Of Trembling Hands\" and Nirvana, they share similar quantity of purchase of 9 items.\n",
    "\n",
    "    The fifth item, \"Pursuit, cudgel of necromancy\" is popular to the players and have the lower cost of $1.02. Look very surprise!!! The players adquire this item were male on the range of age 20 to 30.\n",
    "\n",
    "The most popular items shown highest prices on the Heroes of Pymoli games. "
   ]
  },
  {
   "cell_type": "code",
   "execution_count": 187,
   "metadata": {},
   "outputs": [],
   "source": [
    "# MOST POPULAR ITEMS\n",
    "# In order to identify the popular items, i will create a table with Item ID, Item Name in the index and 3 columns\n",
    "# with the data value for Purchase Count, Item Price and Total Purchase Value\n",
    "\n",
    "# Create a data frame\n",
    "popular_items = purchase_data[[\"Item ID\", \"Item Name\",\"Price\"]]"
   ]
  },
  {
   "cell_type": "code",
   "execution_count": 188,
   "metadata": {},
   "outputs": [],
   "source": [
    "# Create group of items based on Item ID, Item Name \n",
    "popular_items_group = popular_items.groupby([\"Item ID\", \"Item Name\"])"
   ]
  },
  {
   "cell_type": "code",
   "execution_count": 189,
   "metadata": {},
   "outputs": [],
   "source": [
    "# calculate the purchase cost per item\n",
    "popular_items_total = popular_items_group[\"Price\"].sum()\n"
   ]
  },
  {
   "cell_type": "code",
   "execution_count": 191,
   "metadata": {},
   "outputs": [],
   "source": [
    "# calculate number of purchase per item\n",
    "popular_items_quantity =  popular_items_group[\"Item ID\"].count()"
   ]
  },
  {
   "cell_type": "code",
   "execution_count": 195,
   "metadata": {},
   "outputs": [],
   "source": [
    "# Calculate the average price per item\n",
    "popular_items_avg = popular_items_group[\"Price\"].mean()\n"
   ]
  },
  {
   "cell_type": "code",
   "execution_count": 196,
   "metadata": {},
   "outputs": [
    {
     "data": {
      "text/html": [
       "<div>\n",
       "<style scoped>\n",
       "    .dataframe tbody tr th:only-of-type {\n",
       "        vertical-align: middle;\n",
       "    }\n",
       "\n",
       "    .dataframe tbody tr th {\n",
       "        vertical-align: top;\n",
       "    }\n",
       "\n",
       "    .dataframe thead th {\n",
       "        text-align: right;\n",
       "    }\n",
       "</style>\n",
       "<table border=\"1\" class=\"dataframe\">\n",
       "  <thead>\n",
       "    <tr style=\"text-align: right;\">\n",
       "      <th></th>\n",
       "      <th></th>\n",
       "      <th>Purchase Count</th>\n",
       "      <th>Item Price</th>\n",
       "      <th>Total Purchase Value</th>\n",
       "    </tr>\n",
       "    <tr>\n",
       "      <th>Item ID</th>\n",
       "      <th>Item Name</th>\n",
       "      <th></th>\n",
       "      <th></th>\n",
       "      <th></th>\n",
       "    </tr>\n",
       "  </thead>\n",
       "  <tbody>\n",
       "    <tr>\n",
       "      <td>0</td>\n",
       "      <td>Splinter</td>\n",
       "      <td>4</td>\n",
       "      <td>1.28</td>\n",
       "      <td>5.12</td>\n",
       "    </tr>\n",
       "    <tr>\n",
       "      <td>1</td>\n",
       "      <td>Crucifer</td>\n",
       "      <td>3</td>\n",
       "      <td>3.26</td>\n",
       "      <td>9.78</td>\n",
       "    </tr>\n",
       "    <tr>\n",
       "      <td>2</td>\n",
       "      <td>Verdict</td>\n",
       "      <td>6</td>\n",
       "      <td>2.48</td>\n",
       "      <td>14.88</td>\n",
       "    </tr>\n",
       "    <tr>\n",
       "      <td>3</td>\n",
       "      <td>Phantomlight</td>\n",
       "      <td>6</td>\n",
       "      <td>2.49</td>\n",
       "      <td>14.94</td>\n",
       "    </tr>\n",
       "    <tr>\n",
       "      <td>4</td>\n",
       "      <td>Bloodlord's Fetish</td>\n",
       "      <td>5</td>\n",
       "      <td>1.70</td>\n",
       "      <td>8.50</td>\n",
       "    </tr>\n",
       "    <tr>\n",
       "      <td>...</td>\n",
       "      <td>...</td>\n",
       "      <td>...</td>\n",
       "      <td>...</td>\n",
       "      <td>...</td>\n",
       "    </tr>\n",
       "    <tr>\n",
       "      <td>179</td>\n",
       "      <td>Wolf, Promise of the Moonwalker</td>\n",
       "      <td>6</td>\n",
       "      <td>4.48</td>\n",
       "      <td>26.88</td>\n",
       "    </tr>\n",
       "    <tr>\n",
       "      <td>180</td>\n",
       "      <td>Stormcaller</td>\n",
       "      <td>1</td>\n",
       "      <td>3.36</td>\n",
       "      <td>3.36</td>\n",
       "    </tr>\n",
       "    <tr>\n",
       "      <td>181</td>\n",
       "      <td>Reaper's Toll</td>\n",
       "      <td>5</td>\n",
       "      <td>1.66</td>\n",
       "      <td>8.30</td>\n",
       "    </tr>\n",
       "    <tr>\n",
       "      <td>182</td>\n",
       "      <td>Toothpick</td>\n",
       "      <td>3</td>\n",
       "      <td>4.03</td>\n",
       "      <td>12.09</td>\n",
       "    </tr>\n",
       "    <tr>\n",
       "      <td>183</td>\n",
       "      <td>Dragon's Greatsword</td>\n",
       "      <td>3</td>\n",
       "      <td>1.09</td>\n",
       "      <td>3.27</td>\n",
       "    </tr>\n",
       "  </tbody>\n",
       "</table>\n",
       "<p>183 rows × 3 columns</p>\n",
       "</div>"
      ],
      "text/plain": [
       "                                         Purchase Count  Item Price  \\\n",
       "Item ID Item Name                                                     \n",
       "0       Splinter                                      4        1.28   \n",
       "1       Crucifer                                      3        3.26   \n",
       "2       Verdict                                       6        2.48   \n",
       "3       Phantomlight                                  6        2.49   \n",
       "4       Bloodlord's Fetish                            5        1.70   \n",
       "...                                                 ...         ...   \n",
       "179     Wolf, Promise of the Moonwalker               6        4.48   \n",
       "180     Stormcaller                                   1        3.36   \n",
       "181     Reaper's Toll                                 5        1.66   \n",
       "182     Toothpick                                     3        4.03   \n",
       "183     Dragon's Greatsword                           3        1.09   \n",
       "\n",
       "                                         Total Purchase Value  \n",
       "Item ID Item Name                                              \n",
       "0       Splinter                                         5.12  \n",
       "1       Crucifer                                         9.78  \n",
       "2       Verdict                                         14.88  \n",
       "3       Phantomlight                                    14.94  \n",
       "4       Bloodlord's Fetish                               8.50  \n",
       "...                                                       ...  \n",
       "179     Wolf, Promise of the Moonwalker                 26.88  \n",
       "180     Stormcaller                                      3.36  \n",
       "181     Reaper's Toll                                    8.30  \n",
       "182     Toothpick                                       12.09  \n",
       "183     Dragon's Greatsword                              3.27  \n",
       "\n",
       "[183 rows x 3 columns]"
      ]
     },
     "execution_count": 196,
     "metadata": {},
     "output_type": "execute_result"
    }
   ],
   "source": [
    "#Create a data frame to hold the values\n",
    "popular_items_analysis = pd.DataFrame({\"Purchase Count\": popular_items_quantity, \n",
    "                                   \"Item Price\": popular_items_avg,\n",
    "                                   \"Total Purchase Value\":popular_items_total})\n",
    "\n",
    "popular_items_analysis"
   ]
  },
  {
   "cell_type": "code",
   "execution_count": 197,
   "metadata": {},
   "outputs": [],
   "source": [
    "# Sort in descending order to obtain top spender names and provide top 5 item names\n",
    "popular_analysis_formatted = popular_items_analysis.sort_values([\"Purchase Count\"], ascending=False).head()"
   ]
  },
  {
   "cell_type": "code",
   "execution_count": 198,
   "metadata": {},
   "outputs": [
    {
     "data": {
      "text/html": [
       "<style  type=\"text/css\" >\n",
       "</style><table id=\"T_bd47ff9a_344b_11ea_bb2d_0050b6d774f3\" ><thead>    <tr>        <th class=\"blank\" ></th>        <th class=\"blank level0\" ></th>        <th class=\"col_heading level0 col0\" >Purchase Count</th>        <th class=\"col_heading level0 col1\" >Item Price</th>        <th class=\"col_heading level0 col2\" >Total Purchase Value</th>    </tr>    <tr>        <th class=\"index_name level0\" >Item ID</th>        <th class=\"index_name level1\" >Item Name</th>        <th class=\"blank\" ></th>        <th class=\"blank\" ></th>        <th class=\"blank\" ></th>    </tr></thead><tbody>\n",
       "                <tr>\n",
       "                        <th id=\"T_bd47ff9a_344b_11ea_bb2d_0050b6d774f3level0_row0\" class=\"row_heading level0 row0\" >178</th>\n",
       "                        <th id=\"T_bd47ff9a_344b_11ea_bb2d_0050b6d774f3level1_row0\" class=\"row_heading level1 row0\" >Oathbreaker, Last Hope of the Breaking Storm</th>\n",
       "                        <td id=\"T_bd47ff9a_344b_11ea_bb2d_0050b6d774f3row0_col0\" class=\"data row0 col0\" >12</td>\n",
       "                        <td id=\"T_bd47ff9a_344b_11ea_bb2d_0050b6d774f3row0_col1\" class=\"data row0 col1\" >$4.23</td>\n",
       "                        <td id=\"T_bd47ff9a_344b_11ea_bb2d_0050b6d774f3row0_col2\" class=\"data row0 col2\" >$50.76</td>\n",
       "            </tr>\n",
       "            <tr>\n",
       "                        <th id=\"T_bd47ff9a_344b_11ea_bb2d_0050b6d774f3level0_row1\" class=\"row_heading level0 row1\" >145</th>\n",
       "                        <th id=\"T_bd47ff9a_344b_11ea_bb2d_0050b6d774f3level1_row1\" class=\"row_heading level1 row1\" >Fiery Glass Crusader</th>\n",
       "                        <td id=\"T_bd47ff9a_344b_11ea_bb2d_0050b6d774f3row1_col0\" class=\"data row1 col0\" >9</td>\n",
       "                        <td id=\"T_bd47ff9a_344b_11ea_bb2d_0050b6d774f3row1_col1\" class=\"data row1 col1\" >$4.58</td>\n",
       "                        <td id=\"T_bd47ff9a_344b_11ea_bb2d_0050b6d774f3row1_col2\" class=\"data row1 col2\" >$41.22</td>\n",
       "            </tr>\n",
       "            <tr>\n",
       "                        <th id=\"T_bd47ff9a_344b_11ea_bb2d_0050b6d774f3level0_row2\" class=\"row_heading level0 row2\" >108</th>\n",
       "                        <th id=\"T_bd47ff9a_344b_11ea_bb2d_0050b6d774f3level1_row2\" class=\"row_heading level1 row2\" >Extraction, Quickblade Of Trembling Hands</th>\n",
       "                        <td id=\"T_bd47ff9a_344b_11ea_bb2d_0050b6d774f3row2_col0\" class=\"data row2 col0\" >9</td>\n",
       "                        <td id=\"T_bd47ff9a_344b_11ea_bb2d_0050b6d774f3row2_col1\" class=\"data row2 col1\" >$3.53</td>\n",
       "                        <td id=\"T_bd47ff9a_344b_11ea_bb2d_0050b6d774f3row2_col2\" class=\"data row2 col2\" >$31.77</td>\n",
       "            </tr>\n",
       "            <tr>\n",
       "                        <th id=\"T_bd47ff9a_344b_11ea_bb2d_0050b6d774f3level0_row3\" class=\"row_heading level0 row3\" >82</th>\n",
       "                        <th id=\"T_bd47ff9a_344b_11ea_bb2d_0050b6d774f3level1_row3\" class=\"row_heading level1 row3\" >Nirvana</th>\n",
       "                        <td id=\"T_bd47ff9a_344b_11ea_bb2d_0050b6d774f3row3_col0\" class=\"data row3 col0\" >9</td>\n",
       "                        <td id=\"T_bd47ff9a_344b_11ea_bb2d_0050b6d774f3row3_col1\" class=\"data row3 col1\" >$4.90</td>\n",
       "                        <td id=\"T_bd47ff9a_344b_11ea_bb2d_0050b6d774f3row3_col2\" class=\"data row3 col2\" >$44.10</td>\n",
       "            </tr>\n",
       "            <tr>\n",
       "                        <th id=\"T_bd47ff9a_344b_11ea_bb2d_0050b6d774f3level0_row4\" class=\"row_heading level0 row4\" >19</th>\n",
       "                        <th id=\"T_bd47ff9a_344b_11ea_bb2d_0050b6d774f3level1_row4\" class=\"row_heading level1 row4\" >Pursuit, Cudgel of Necromancy</th>\n",
       "                        <td id=\"T_bd47ff9a_344b_11ea_bb2d_0050b6d774f3row4_col0\" class=\"data row4 col0\" >8</td>\n",
       "                        <td id=\"T_bd47ff9a_344b_11ea_bb2d_0050b6d774f3row4_col1\" class=\"data row4 col1\" >$1.02</td>\n",
       "                        <td id=\"T_bd47ff9a_344b_11ea_bb2d_0050b6d774f3row4_col2\" class=\"data row4 col2\" >$8.16</td>\n",
       "            </tr>\n",
       "    </tbody></table>"
      ],
      "text/plain": [
       "<pandas.io.formats.style.Styler at 0x128dffd0088>"
      ]
     },
     "execution_count": 198,
     "metadata": {},
     "output_type": "execute_result"
    }
   ],
   "source": [
    "# Format with currency style\n",
    "popular_analysis_formatted.style.format({\"Item Price\":\"${:,.2f}\",\n",
    "                                \"Total Purchase Value\":\"${:,.2f}\"})"
   ]
  },
  {
   "cell_type": "markdown",
   "metadata": {},
   "source": [
    "## Most Profitable Items"
   ]
  },
  {
   "cell_type": "code",
   "execution_count": 201,
   "metadata": {},
   "outputs": [
    {
     "data": {
      "text/html": [
       "<div>\n",
       "<style scoped>\n",
       "    .dataframe tbody tr th:only-of-type {\n",
       "        vertical-align: middle;\n",
       "    }\n",
       "\n",
       "    .dataframe tbody tr th {\n",
       "        vertical-align: top;\n",
       "    }\n",
       "\n",
       "    .dataframe thead th {\n",
       "        text-align: right;\n",
       "    }\n",
       "</style>\n",
       "<table border=\"1\" class=\"dataframe\">\n",
       "  <thead>\n",
       "    <tr style=\"text-align: right;\">\n",
       "      <th></th>\n",
       "      <th></th>\n",
       "      <th>Purchase Count</th>\n",
       "      <th>Item Price</th>\n",
       "      <th>Total Purchase Value</th>\n",
       "    </tr>\n",
       "    <tr>\n",
       "      <th>Item ID</th>\n",
       "      <th>Item Name</th>\n",
       "      <th></th>\n",
       "      <th></th>\n",
       "      <th></th>\n",
       "    </tr>\n",
       "  </thead>\n",
       "  <tbody>\n",
       "    <tr>\n",
       "      <td>178</td>\n",
       "      <td>Oathbreaker, Last Hope of the Breaking Storm</td>\n",
       "      <td>12</td>\n",
       "      <td>4.23</td>\n",
       "      <td>50.76</td>\n",
       "    </tr>\n",
       "    <tr>\n",
       "      <td>82</td>\n",
       "      <td>Nirvana</td>\n",
       "      <td>9</td>\n",
       "      <td>4.90</td>\n",
       "      <td>44.10</td>\n",
       "    </tr>\n",
       "    <tr>\n",
       "      <td>145</td>\n",
       "      <td>Fiery Glass Crusader</td>\n",
       "      <td>9</td>\n",
       "      <td>4.58</td>\n",
       "      <td>41.22</td>\n",
       "    </tr>\n",
       "    <tr>\n",
       "      <td>92</td>\n",
       "      <td>Final Critic</td>\n",
       "      <td>8</td>\n",
       "      <td>4.88</td>\n",
       "      <td>39.04</td>\n",
       "    </tr>\n",
       "    <tr>\n",
       "      <td>103</td>\n",
       "      <td>Singed Scalpel</td>\n",
       "      <td>8</td>\n",
       "      <td>4.35</td>\n",
       "      <td>34.80</td>\n",
       "    </tr>\n",
       "  </tbody>\n",
       "</table>\n",
       "</div>"
      ],
      "text/plain": [
       "                                                      Purchase Count  \\\n",
       "Item ID Item Name                                                      \n",
       "178     Oathbreaker, Last Hope of the Breaking Storm              12   \n",
       "82      Nirvana                                                    9   \n",
       "145     Fiery Glass Crusader                                       9   \n",
       "92      Final Critic                                               8   \n",
       "103     Singed Scalpel                                             8   \n",
       "\n",
       "                                                      Item Price  \\\n",
       "Item ID Item Name                                                  \n",
       "178     Oathbreaker, Last Hope of the Breaking Storm        4.23   \n",
       "82      Nirvana                                             4.90   \n",
       "145     Fiery Glass Crusader                                4.58   \n",
       "92      Final Critic                                        4.88   \n",
       "103     Singed Scalpel                                      4.35   \n",
       "\n",
       "                                                      Total Purchase Value  \n",
       "Item ID Item Name                                                           \n",
       "178     Oathbreaker, Last Hope of the Breaking Storm                 50.76  \n",
       "82      Nirvana                                                      44.10  \n",
       "145     Fiery Glass Crusader                                         41.22  \n",
       "92      Final Critic                                                 39.04  \n",
       "103     Singed Scalpel                                               34.80  "
      ]
     },
     "execution_count": 201,
     "metadata": {},
     "output_type": "execute_result"
    }
   ],
   "source": [
    "# MOST PROFITABLE ITEMS\n",
    "# Sort popular_analysis by Total Purchase Value in descending order\n",
    "popular_analysis_formatted = popular_items_analysis.sort_values([\"Total Purchase Value\"], ascending=False).head()\n",
    "popular_analysis_formatted"
   ]
  },
  {
   "cell_type": "markdown",
   "metadata": {
    "scrolled": true
   },
   "source": [
    "# References:\n",
    "https://pandas.pydata.org/pandas-docs/stable/reference/io.html\n",
    "\n",
    "https://pandas.pydata.org/pandas-docs/version/0.8.1/generated/pandas.DataFrame.align.html\n",
    "\n",
    "Eric Matheus, Python Crash Course. URL: https://ehmatthes.github.io/pcc/\n",
    "\n",
    "The Demographics of Video Gaming by Carolyn Pairitz Morris. URL: https://www.earnest.com/blog/the-demographics-of-video-gaming/\n",
    "\n",
    "google seach is a wonderfull source of information. URL: https://www.google.com/"
   ]
  }
 ],
 "metadata": {
  "anaconda-cloud": {},
  "kernel_info": {
   "name": "python3"
  },
  "kernelspec": {
   "display_name": "Python 3",
   "language": "python",
   "name": "python3"
  },
  "language_info": {
   "codemirror_mode": {
    "name": "ipython",
    "version": 3
   },
   "file_extension": ".py",
   "mimetype": "text/x-python",
   "name": "python",
   "nbconvert_exporter": "python",
   "pygments_lexer": "ipython3",
   "version": "3.7.4"
  },
  "latex_envs": {
   "LaTeX_envs_menu_present": true,
   "autoclose": false,
   "autocomplete": true,
   "bibliofile": "biblio.bib",
   "cite_by": "apalike",
   "current_citInitial": 1,
   "eqLabelWithNumbers": true,
   "eqNumInitial": 1,
   "hotkeys": {
    "equation": "Ctrl-E",
    "itemize": "Ctrl-I"
   },
   "labels_anchors": false,
   "latex_user_defs": false,
   "report_style_numbering": false,
   "user_envs_cfg": false
  },
  "nteract": {
   "version": "0.2.0"
  }
 },
 "nbformat": 4,
 "nbformat_minor": 2
}
